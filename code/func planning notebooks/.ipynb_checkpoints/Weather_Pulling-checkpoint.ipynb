{
 "cells": [
  {
   "cell_type": "code",
   "execution_count": 7,
   "id": "dress-craft",
   "metadata": {
    "scrolled": true
   },
   "outputs": [
    {
     "data": {
      "text/plain": [
       "'This is one of 5 custom functions created to run this application.\\n\\nThis notebook focuses on pulling weather data using the weatherbit.'"
      ]
     },
     "execution_count": 7,
     "metadata": {},
     "output_type": "execute_result"
    }
   ],
   "source": [
    "'''This is one of 5 custom functions created to run this application.\n",
    "\n",
    "This notebook focuses on pulling weather data using the weatherbit.'''"
   ]
  },
  {
   "cell_type": "code",
   "execution_count": 2,
   "id": "monetary-eugene",
   "metadata": {},
   "outputs": [],
   "source": [
    "import pandas as pd\n",
    "from weatherbit.api import Api\n",
    "api_key = \"a33d21f85ef140449e22bf1475de3f1c\""
   ]
  },
  {
   "cell_type": "code",
   "execution_count": 3,
   "id": "sunset-constraint",
   "metadata": {},
   "outputs": [],
   "source": [
    "api = Api(api_key)\n",
    "api.set_granularity('daily')"
   ]
  },
  {
   "cell_type": "code",
   "execution_count": 3,
   "id": "rotary-savings",
   "metadata": {},
   "outputs": [],
   "source": [
    "def weather_report(city,state,num_days=14):\n",
    "    loc = city + ',' + state\n",
    "    forecast = api.get_forecast(city = loc)\n",
    "    df = pd.DataFrame(forecast.get_series(['temp','precip','rh','cloud'])).head(num_days)\n",
    "    return df"
   ]
  }
 ],
 "metadata": {
  "kernelspec": {
   "display_name": "Python 3",
   "language": "python",
   "name": "python3"
  },
  "language_info": {
   "codemirror_mode": {
    "name": "ipython",
    "version": 3
   },
   "file_extension": ".py",
   "mimetype": "text/x-python",
   "name": "python",
   "nbconvert_exporter": "python",
   "pygments_lexer": "ipython3",
   "version": "3.8.8"
  }
 },
 "nbformat": 4,
 "nbformat_minor": 5
}
