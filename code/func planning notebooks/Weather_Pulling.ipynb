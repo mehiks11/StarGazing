{
 "cells": [
  {
   "cell_type": "code",
   "execution_count": 7,
   "id": "dress-craft",
   "metadata": {
    "scrolled": true
   },
   "outputs": [
    {
     "data": {
      "text/plain": [
       "'This is one of 5 custom functions created to run this application.\\n\\nThis notebook focuses on pulling weather data using the weatherbit.'"
      ]
     },
     "execution_count": 7,
     "metadata": {},
     "output_type": "execute_result"
    }
   ],
   "source": [
    "'''This is one of 5 custom functions created to run this application.\n",
    "\n",
    "This notebook focuses on pulling weather data using the weatherbit.'''"
   ]
  },
  {
   "cell_type": "code",
   "execution_count": 4,
   "id": "monetary-eugene",
   "metadata": {},
   "outputs": [],
   "source": [
    "import pandas as pd\n",
    "from weatherbit.api import Api\n",
    "api_key = \"a33d21f85ef140449e22bf1475de3f1c\""
   ]
  },
  {
   "cell_type": "code",
   "execution_count": 5,
   "id": "sunset-constraint",
   "metadata": {},
   "outputs": [],
   "source": [
    "api = Api(api_key)\n",
    "api.set_granularity('daily')"
   ]
  },
  {
   "cell_type": "code",
   "execution_count": 10,
   "id": "rotary-savings",
   "metadata": {},
   "outputs": [],
   "source": [
    "def weather_report(city='greenville',state='sc',num_days=14):\n",
    "    loc = city + ',' + state\n",
    "    forecast = api.get_forecast(city = loc)\n",
    "    df = pd.DataFrame(forecast.get_series(['temp','precip','rh','clouds'])).head(num_days)\n",
    "    return df"
   ]
  },
  {
   "cell_type": "code",
   "execution_count": 11,
   "id": "surrounded-advisory",
   "metadata": {},
   "outputs": [
    {
     "data": {
      "text/html": [
       "<div>\n",
       "<style scoped>\n",
       "    .dataframe tbody tr th:only-of-type {\n",
       "        vertical-align: middle;\n",
       "    }\n",
       "\n",
       "    .dataframe tbody tr th {\n",
       "        vertical-align: top;\n",
       "    }\n",
       "\n",
       "    .dataframe thead th {\n",
       "        text-align: right;\n",
       "    }\n",
       "</style>\n",
       "<table border=\"1\" class=\"dataframe\">\n",
       "  <thead>\n",
       "    <tr style=\"text-align: right;\">\n",
       "      <th></th>\n",
       "      <th>temp</th>\n",
       "      <th>precip</th>\n",
       "      <th>rh</th>\n",
       "      <th>clouds</th>\n",
       "      <th>datetime</th>\n",
       "    </tr>\n",
       "  </thead>\n",
       "  <tbody>\n",
       "    <tr>\n",
       "      <th>0</th>\n",
       "      <td>22.4</td>\n",
       "      <td>19.3125</td>\n",
       "      <td>84</td>\n",
       "      <td>70</td>\n",
       "      <td>2021-06-22</td>\n",
       "    </tr>\n",
       "    <tr>\n",
       "      <th>1</th>\n",
       "      <td>20.8</td>\n",
       "      <td>0.0000</td>\n",
       "      <td>72</td>\n",
       "      <td>40</td>\n",
       "      <td>2021-06-23</td>\n",
       "    </tr>\n",
       "    <tr>\n",
       "      <th>2</th>\n",
       "      <td>21.1</td>\n",
       "      <td>0.0000</td>\n",
       "      <td>77</td>\n",
       "      <td>72</td>\n",
       "      <td>2021-06-24</td>\n",
       "    </tr>\n",
       "    <tr>\n",
       "      <th>3</th>\n",
       "      <td>22.9</td>\n",
       "      <td>0.0000</td>\n",
       "      <td>60</td>\n",
       "      <td>62</td>\n",
       "      <td>2021-06-25</td>\n",
       "    </tr>\n",
       "    <tr>\n",
       "      <th>4</th>\n",
       "      <td>23.6</td>\n",
       "      <td>0.8750</td>\n",
       "      <td>75</td>\n",
       "      <td>96</td>\n",
       "      <td>2021-06-26</td>\n",
       "    </tr>\n",
       "    <tr>\n",
       "      <th>5</th>\n",
       "      <td>22.3</td>\n",
       "      <td>8.0000</td>\n",
       "      <td>87</td>\n",
       "      <td>73</td>\n",
       "      <td>2021-06-27</td>\n",
       "    </tr>\n",
       "    <tr>\n",
       "      <th>6</th>\n",
       "      <td>24.9</td>\n",
       "      <td>5.8750</td>\n",
       "      <td>72</td>\n",
       "      <td>28</td>\n",
       "      <td>2021-06-28</td>\n",
       "    </tr>\n",
       "    <tr>\n",
       "      <th>7</th>\n",
       "      <td>25.5</td>\n",
       "      <td>0.9375</td>\n",
       "      <td>69</td>\n",
       "      <td>62</td>\n",
       "      <td>2021-06-29</td>\n",
       "    </tr>\n",
       "    <tr>\n",
       "      <th>8</th>\n",
       "      <td>23.6</td>\n",
       "      <td>3.3750</td>\n",
       "      <td>80</td>\n",
       "      <td>88</td>\n",
       "      <td>2021-06-30</td>\n",
       "    </tr>\n",
       "    <tr>\n",
       "      <th>9</th>\n",
       "      <td>23.8</td>\n",
       "      <td>14.8125</td>\n",
       "      <td>81</td>\n",
       "      <td>81</td>\n",
       "      <td>2021-07-01</td>\n",
       "    </tr>\n",
       "    <tr>\n",
       "      <th>10</th>\n",
       "      <td>21.2</td>\n",
       "      <td>6.3750</td>\n",
       "      <td>96</td>\n",
       "      <td>100</td>\n",
       "      <td>2021-07-02</td>\n",
       "    </tr>\n",
       "    <tr>\n",
       "      <th>11</th>\n",
       "      <td>20.6</td>\n",
       "      <td>4.8125</td>\n",
       "      <td>98</td>\n",
       "      <td>100</td>\n",
       "      <td>2021-07-03</td>\n",
       "    </tr>\n",
       "    <tr>\n",
       "      <th>12</th>\n",
       "      <td>23.7</td>\n",
       "      <td>1.2500</td>\n",
       "      <td>86</td>\n",
       "      <td>99</td>\n",
       "      <td>2021-07-04</td>\n",
       "    </tr>\n",
       "    <tr>\n",
       "      <th>13</th>\n",
       "      <td>26.9</td>\n",
       "      <td>0.0000</td>\n",
       "      <td>73</td>\n",
       "      <td>98</td>\n",
       "      <td>2021-07-05</td>\n",
       "    </tr>\n",
       "  </tbody>\n",
       "</table>\n",
       "</div>"
      ],
      "text/plain": [
       "    temp   precip  rh  clouds   datetime\n",
       "0   22.4  19.3125  84      70 2021-06-22\n",
       "1   20.8   0.0000  72      40 2021-06-23\n",
       "2   21.1   0.0000  77      72 2021-06-24\n",
       "3   22.9   0.0000  60      62 2021-06-25\n",
       "4   23.6   0.8750  75      96 2021-06-26\n",
       "5   22.3   8.0000  87      73 2021-06-27\n",
       "6   24.9   5.8750  72      28 2021-06-28\n",
       "7   25.5   0.9375  69      62 2021-06-29\n",
       "8   23.6   3.3750  80      88 2021-06-30\n",
       "9   23.8  14.8125  81      81 2021-07-01\n",
       "10  21.2   6.3750  96     100 2021-07-02\n",
       "11  20.6   4.8125  98     100 2021-07-03\n",
       "12  23.7   1.2500  86      99 2021-07-04\n",
       "13  26.9   0.0000  73      98 2021-07-05"
      ]
     },
     "execution_count": 11,
     "metadata": {},
     "output_type": "execute_result"
    }
   ],
   "source": [
    "weather_report()"
   ]
  },
  {
   "cell_type": "code",
   "execution_count": null,
   "id": "fossil-catch",
   "metadata": {},
   "outputs": [],
   "source": []
  }
 ],
 "metadata": {
  "kernelspec": {
   "display_name": "Python 3",
   "language": "python",
   "name": "python3"
  },
  "language_info": {
   "codemirror_mode": {
    "name": "ipython",
    "version": 3
   },
   "file_extension": ".py",
   "mimetype": "text/x-python",
   "name": "python",
   "nbconvert_exporter": "python",
   "pygments_lexer": "ipython3",
   "version": "3.8.8"
  }
 },
 "nbformat": 4,
 "nbformat_minor": 5
}
