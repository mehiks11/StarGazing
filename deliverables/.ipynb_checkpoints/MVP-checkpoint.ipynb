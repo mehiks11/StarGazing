{
 "cells": [
  {
   "cell_type": "markdown",
   "id": "accessory-character",
   "metadata": {},
   "source": [
    "**This notebook pulls from a module built that pulls weather data and moonphase data and runs some calculations to rank days by these conditions. The give_suggestions() function returns a ranked list of days to go stargazing. In this case, the function suggest the 29th as the best day in the next 12 days to go stargazing in greenville, sc!**"
   ]
  },
  {
   "cell_type": "code",
   "execution_count": 5,
   "id": "second-bandwidth",
   "metadata": {},
   "outputs": [],
   "source": [
    "from suggest import *"
   ]
  },
  {
   "cell_type": "code",
   "execution_count": 6,
   "id": "billion-alberta",
   "metadata": {
    "scrolled": true
   },
   "outputs": [
    {
     "data": {
      "text/plain": [
       "{'first': Timestamp('2021-06-29 00:00:00'),\n",
       " 'second': Timestamp('2021-06-23 00:00:00'),\n",
       " 'third': Timestamp('2021-06-25 00:00:00'),\n",
       " 'fourth': Timestamp('2021-06-28 00:00:00'),\n",
       " 'fifth': Timestamp('2021-06-30 00:00:00'),\n",
       " 'sixth': Timestamp('2021-06-26 00:00:00'),\n",
       " 'seventh': Timestamp('2021-06-24 00:00:00'),\n",
       " 'eigth': Timestamp('2021-07-03 00:00:00'),\n",
       " 'ninth': Timestamp('2021-07-02 00:00:00'),\n",
       " 'tenth': Timestamp('2021-07-01 00:00:00'),\n",
       " 'eleventh': Timestamp('2021-06-27 00:00:00'),\n",
       " 'twelvth': Timestamp('2021-06-22 00:00:00')}"
      ]
     },
     "execution_count": 6,
     "metadata": {},
     "output_type": "execute_result"
    }
   ],
   "source": [
    "city = 'greenville'\n",
    "state = 'sc'\n",
    "num_days = 12\n",
    "give_suggestions(city,state,num_days)"
   ]
  },
  {
   "cell_type": "markdown",
   "id": "furnished-mayor",
   "metadata": {},
   "source": [
    "The pipeline involves data ingestation from a weather API and a moonphases dataset, some processing to create a new dataset, including some calculations ran to rank days, and ultimately to pull from the dataframe the days suggested in a ranked manner as shown above."
   ]
  }
 ],
 "metadata": {
  "kernelspec": {
   "display_name": "Python 3",
   "language": "python",
   "name": "python3"
  },
  "language_info": {
   "codemirror_mode": {
    "name": "ipython",
    "version": 3
   },
   "file_extension": ".py",
   "mimetype": "text/x-python",
   "name": "python",
   "nbconvert_exporter": "python",
   "pygments_lexer": "ipython3",
   "version": "3.8.8"
  }
 },
 "nbformat": 4,
 "nbformat_minor": 5
}
